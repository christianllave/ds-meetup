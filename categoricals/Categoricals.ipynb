{
 "cells": [
  {
   "cell_type": "markdown",
   "id": "4283021f-4ac8-46b7-a007-22e34622fbde",
   "metadata": {},
   "source": [
    "# Initiate Setup"
   ]
  },
  {
   "cell_type": "markdown",
   "id": "1b16de56-51b6-4317-b6ac-488da2238ac4",
   "metadata": {},
   "source": [
    "Load necessary packages."
   ]
  },
  {
   "cell_type": "code",
   "execution_count": null,
   "id": "01171a9f-61f1-4cb5-b6f7-7743cefa1194",
   "metadata": {},
   "outputs": [],
   "source": [
    "import pandas as pd # for data transformations\n",
    "import sklearn # for some general machine learning and other transformations\n",
    "\n",
    "from langdetect import detect # for language detection"
   ]
  },
  {
   "cell_type": "markdown",
   "id": "45482101-7044-4d55-bb9e-c2e22467153d",
   "metadata": {},
   "source": [
    "I'm using Youtube video data I extracted for one of my old university projects, containing video metadata and basic stats. This made possible through the [Youtube Data API](https://developers.google.com/youtube/v3/getting-started)."
   ]
  },
  {
   "cell_type": "code",
   "execution_count": null,
   "id": "a404b12a-5b88-4066-947b-c3d9fe9a126f",
   "metadata": {},
   "outputs": [],
   "source": [
    "df = pd.read_csv('video_data.csv')"
   ]
  },
  {
   "cell_type": "code",
   "execution_count": null,
   "id": "a79da0fb-c56a-4e9c-9339-4f884b96358b",
   "metadata": {},
   "outputs": [],
   "source": [
    "df.head()"
   ]
  },
  {
   "cell_type": "markdown",
   "id": "520a8544-46c8-490e-bdce-a9c7e37d623b",
   "metadata": {},
   "source": [
    "# Introduction"
   ]
  },
  {
   "cell_type": "markdown",
   "id": "f87296d5-e0a3-4ee0-ad8a-c2ff2d110c38",
   "metadata": {},
   "source": [
    "## Reductive crash course on data types on structured data"
   ]
  },
  {
   "cell_type": "markdown",
   "id": "08ca9eec-c0b7-4472-99ed-2791e22932cc",
   "metadata": {},
   "source": [
    "What are categorical variables?\n",
    "\n",
    "Structured Data can be thought of as two types: numeric (integers, floats) and categorical (strings, booleans*). Categorical variables are either nominal (unordered ex. colours: red, blue, yellow) or ordinal (good, better, best). Some cases like days of the week can be represented as either a category or a number, depending on the application (i.e. if you're using the variable as a category or you're using difference in time as the variable).\n",
    "\n",
    "Mathematical operations (+ - / *) don't make much sense with nominal categorical variables. How do we add or subtract cats and dogs? \n",
    "\n",
    "Ordinal variables can accept mathematical operations, __but__ we need to consider if the order is dictated by a fixed interval or a subjective one. Ex: __good__ is how much better than __better__?\n",
    "\n",
    "*Note: booleans can also do math as they can be treated as 1 if true and 0 if false)"
   ]
  },
  {
   "cell_type": "markdown",
   "id": "1d6cfb82-cef5-47f4-a77b-ad8673719dcc",
   "metadata": {},
   "source": [
    "## Why does this matter?"
   ]
  },
  {
   "cell_type": "markdown",
   "id": "758acb4d-bb6f-4f3b-bfa7-59b0c52d725c",
   "metadata": {},
   "source": [
    "A lot of machine learning techniques (ex. linear methods like regression, support vector machines, and neural networks) use mathematical operations to generate predictions. Sometimes these methods yield fairly good results; however, _sometimes_ is unreliable. \n",
    "\n",
    "Knowing math doesn't fully make sense when we perform them on certain categorical variables, we need to consider ways to either:\n",
    "- transform categoricals into numerics, or\n",
    "- use techniques that can use categoricals directly"
   ]
  },
  {
   "cell_type": "markdown",
   "id": "964108b7-074e-4c72-913b-ea983f471f1c",
   "metadata": {},
   "source": [
    "# Looking at the data"
   ]
  },
  {
   "cell_type": "markdown",
   "id": "344aae14-9e38-4d5b-afe4-5f16cae09937",
   "metadata": {},
   "source": [
    "## Categories mistaken for numeric"
   ]
  },
  {
   "cell_type": "markdown",
   "id": "ba5ddd9b-8fda-405e-acb1-0113384bc677",
   "metadata": {},
   "source": [
    "We can see there are columns here already marked as potential categorical variables through the __object__ type, but some categories like __category_id__ is written as an __int__ because it looks like a number. "
   ]
  },
  {
   "cell_type": "code",
   "execution_count": null,
   "id": "0b8ae9b7-98da-477c-9fec-d9d9da0c7bc3",
   "metadata": {},
   "outputs": [],
   "source": [
    "df.dtypes"
   ]
  },
  {
   "cell_type": "markdown",
   "id": "22101687-00f6-4a3c-a759-bf25b9640832",
   "metadata": {},
   "source": [
    "We can cast category_id as a category object or a string object depending on what we want to do. For now, I just want to see it as a string."
   ]
  },
  {
   "cell_type": "code",
   "execution_count": null,
   "id": "9d6066bc-e2e3-4cc7-8f77-734a77fa9218",
   "metadata": {},
   "outputs": [],
   "source": [
    "df['category_id'] = df['category_id'].astype('string')"
   ]
  },
  {
   "cell_type": "code",
   "execution_count": null,
   "id": "9fbc3dd5-f02e-41b5-a437-1193fed5023d",
   "metadata": {},
   "outputs": [],
   "source": [
    "df.dtypes"
   ]
  },
  {
   "cell_type": "markdown",
   "id": "e734d023-8171-4710-aa31-de1a3db4629d",
   "metadata": {},
   "source": [
    "## Unique strings"
   ]
  },
  {
   "cell_type": "markdown",
   "id": "6e7b676e-fb56-46f0-b182-e104c45564a3",
   "metadata": {},
   "source": [
    "I find unique values to be an exploratory checkpoint for categorical variables, because you can find highly unique variables, which would make it hard for the machine to learn meaningful patterns. Personally, if it's over 80% unique for the whole dataset, I find it suspicious. "
   ]
  },
  {
   "cell_type": "code",
   "execution_count": null,
   "id": "4163e02f-ae27-441e-b842-1bf61605ba10",
   "metadata": {},
   "outputs": [],
   "source": []
  },
  {
   "cell_type": "code",
   "execution_count": null,
   "id": "709075da-5eb6-4c94-9023-e60d34690567",
   "metadata": {},
   "outputs": [],
   "source": []
  },
  {
   "cell_type": "code",
   "execution_count": null,
   "id": "0f540aa2-f18f-4a0b-8239-624ce5b9459c",
   "metadata": {},
   "outputs": [],
   "source": []
  },
  {
   "cell_type": "markdown",
   "id": "a4640420-767c-41c7-8a4c-f263d38e9862",
   "metadata": {},
   "source": [
    "## Where's the correlation?\n",
    "Usually, for numeric variables, we're able to draw correlation matrices showing variables that have high correlations with each other, which can indicate dependencies. Because we're dealing with categorical variables, the same analysis is not afforded to us. However, we can use the [Predictive Power Score (PPS)](https://pypi.org/project/ppscore), which aims to answer similar questions.\n",
    "\n",
    "One of the ways to do it is by running pairs of PPS for each feature combination, but for this exercise, we can just semantically remove dependencies and redundancies."
   ]
  },
  {
   "cell_type": "code",
   "execution_count": null,
   "id": "3309e8ac-1b0f-4908-8e93-3c6321769a76",
   "metadata": {},
   "outputs": [],
   "source": []
  }
 ],
 "metadata": {
  "kernelspec": {
   "display_name": "Python 3 (ipykernel)",
   "language": "python",
   "name": "python3"
  },
  "language_info": {
   "codemirror_mode": {
    "name": "ipython",
    "version": 3
   },
   "file_extension": ".py",
   "mimetype": "text/x-python",
   "name": "python",
   "nbconvert_exporter": "python",
   "pygments_lexer": "ipython3",
   "version": "3.10.2"
  }
 },
 "nbformat": 4,
 "nbformat_minor": 5
}
